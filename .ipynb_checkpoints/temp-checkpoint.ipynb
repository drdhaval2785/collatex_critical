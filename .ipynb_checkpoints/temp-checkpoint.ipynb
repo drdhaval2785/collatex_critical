{
 "cells": [
  {
   "cell_type": "code",
   "execution_count": 1,
   "id": "698dd0e0-e210-47c4-aa10-87661bca79ca",
   "metadata": {},
   "outputs": [],
   "source": [
    "from collatex import *\n",
    "collation = Collation()\n",
    "collation.add_plain_witness(\"A\",\"The big old gray koala:\")\n",
    "collation.add_plain_witness(\"B\", \"The big gray fuzzy koala.\")\n",
    "collation.add_plain_witness(\"C\",\"The grey fuzzy wombat!\")\n",
    "#table = collate(collation, segmentation=False, near_match=True)\n",
    "tei = collate(collation, output=\"tei\", segmentation=False, near_match=True)\n"
   ]
  },
  {
   "cell_type": "code",
   "execution_count": 2,
   "id": "f3e09669-874f-4854-8db7-59e2c535e754",
   "metadata": {},
   "outputs": [
    {
     "name": "stdout",
     "output_type": "stream",
     "text": [
      "<?xml version=\"1.0\" ?><cx:apparatus xmlns:cx=\"http://interedition.eu/collatex/ns/1.0\" xmlns=\"http://www.tei-c.org/ns/1.0\">The <app><rdg wit=\"#A #B\">big</rdg></app> <app><rdg wit=\"#A\">old</rdg></app> <app><rdg wit=\"#A #B\">gray</rdg><rdg wit=\"#C\">grey</rdg></app> <app><rdg wit=\"#B #C\">fuzzy</rdg></app> <app><rdg wit=\"#A #B\">koala</rdg><rdg wit=\"#C\">wombat</rdg></app><app><rdg wit=\"#A\">:</rdg><rdg wit=\"#B\">.</rdg><rdg wit=\"#C\">!</rdg></app></cx:apparatus>\n"
     ]
    }
   ],
   "source": [
    "#print(table)\n",
    "print(tei)\n"
   ]
  },
  {
   "cell_type": "code",
   "execution_count": null,
   "id": "28db1630-634d-46e6-b085-686467737a6f",
   "metadata": {},
   "outputs": [],
   "source": [
    "svg = collate(collation, output=\"svg\", segmentation=False, near_match=True)\n"
   ]
  }
 ],
 "metadata": {
  "kernelspec": {
   "display_name": "Python 3 (ipykernel)",
   "language": "python",
   "name": "python3"
  },
  "language_info": {
   "codemirror_mode": {
    "name": "ipython",
    "version": 3
   },
   "file_extension": ".py",
   "mimetype": "text/x-python",
   "name": "python",
   "nbconvert_exporter": "python",
   "pygments_lexer": "ipython3",
   "version": "3.13.5"
  }
 },
 "nbformat": 4,
 "nbformat_minor": 5
}
